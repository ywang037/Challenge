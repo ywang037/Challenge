{
 "cells": [
  {
   "cell_type": "code",
   "execution_count": 1,
   "metadata": {},
   "outputs": [],
   "source": [
    "import numpy as np\n",
    "import pandas as pd\n",
    "import torch\n",
    "import matplotlib.pyplot as plt"
   ]
  },
  {
   "cell_type": "code",
   "execution_count": 2,
   "metadata": {},
   "outputs": [
    {
     "name": "stdout",
     "output_type": "stream",
     "text": [
      "c:\\Users\\YWANG\\cpfl-python\\fets_2022\\Challenge\\Task_1\n"
     ]
    }
   ],
   "source": [
    "import os\n",
    "cwd = os.getcwd()\n",
    "print(cwd)"
   ]
  },
  {
   "cell_type": "code",
   "execution_count": 3,
   "metadata": {},
   "outputs": [
    {
     "name": "stdout",
     "output_type": "stream",
     "text": [
      "c:\\Users\\YWANG\\cpfl-python\\fets_2022\\Challenge\\Task_1\\openfl-workspace\\fets_challenge_workspace\\partitioning_1.csv\n",
      "c:\\Users\\YWANG\\cpfl-python\\fets_2022\\Challenge\\Task_1\\openfl-workspace\\fets_challenge_workspace\\partitioning_2.csv\n"
     ]
    }
   ],
   "source": [
    "partition_1_path = os.path.join(cwd,'openfl-workspace','fets_challenge_workspace','partitioning_1.csv')\n",
    "partition_2_path = os.path.join(cwd,'openfl-workspace','fets_challenge_workspace','partitioning_2.csv')\n",
    "print(partition_1_path)\n",
    "print(partition_2_path)"
   ]
  },
  {
   "cell_type": "code",
   "execution_count": 4,
   "metadata": {},
   "outputs": [
    {
     "name": "stdout",
     "output_type": "stream",
     "text": [
      "Partition_1: 23 collaborators have 1251 data samples\n",
      "Partition_2: 33 collaborators have 1251 data samples\n"
     ]
    }
   ],
   "source": [
    "df_1 = pd.read_csv(partition_1_path)\n",
    "df_2 = pd.read_csv(partition_2_path)\n",
    "num_samples_1 = len(df_1['Partition_ID'])\n",
    "num_cols_1 = df_1['Partition_ID'][num_samples_1-1]\n",
    "num_samples_2 = len(df_2['Partition_ID'])\n",
    "num_cols_2 = df_2['Partition_ID'][num_samples_2-1]\n",
    "print('Partition_1: {} collaborators have {} data samples'.format(num_cols_1,num_samples_1))\n",
    "print('Partition_2: {} collaborators have {} data samples'.format(num_cols_2,num_samples_2))"
   ]
  },
  {
   "cell_type": "code",
   "execution_count": 5,
   "metadata": {},
   "outputs": [],
   "source": [
    "all_cols_1 = ['col_'+str(i) for i in range(num_cols_1)]\n",
    "all_cols_2 = ['col_'+str(i) for i in range(num_cols_2)]"
   ]
  },
  {
   "cell_type": "code",
   "execution_count": 6,
   "metadata": {},
   "outputs": [
    {
     "data": {
      "text/plain": [
       "33"
      ]
     },
     "execution_count": 6,
     "metadata": {},
     "output_type": "execute_result"
    }
   ],
   "source": [
    "num_cols_2"
   ]
  },
  {
   "cell_type": "code",
   "execution_count": 7,
   "metadata": {},
   "outputs": [
    {
     "name": "stdout",
     "output_type": "stream",
     "text": [
      "[511.   6.  15.  47.  22.  34.  12.   8.   4.   8.  14.  11.  35.   6.\n",
      "  13.  30.   9. 382.   4.  33.  35.   7.   5.]\n",
      "[170. 170. 171.   6.  15.  16.  15.  16.  22.  34.  12.   8.   4.   8.\n",
      "  14.  11.  12.  11.  12.   6.  13.  30.   9. 127. 127. 128.   4.  33.\n",
      "  12.  11.  12.   7.   5.]\n"
     ]
    },
    {
     "data": {
      "image/png": "[encoded data removed]",
      "text/plain": [
       "<Figure size 432x288 with 1 Axes>"
      ]
     },
     "metadata": {
      "needs_background": "light"
     },
     "output_type": "display_data"
    },
    {
     "data": {
      "image/png": "[encoded data removed]",
      "text/plain": [
       "<Figure size 432x288 with 1 Axes>"
      ]
     },
     "metadata": {
      "needs_background": "light"
     },
     "output_type": "display_data"
    }
   ],
   "source": [
    "plt.figure()\n",
    "# num_1, _, _ = plt.hist(df_1['Partition_ID'],bins=np.arange(1,num_cols_1+1,1))\n",
    "num_1, _, _ = plt.hist(df_1['Partition_ID'],bins=23)\n",
    "# plt.xticks(np.arange(1,num_cols_1+1,1))\n",
    "print(num_1)\n",
    "plt.figure()\n",
    "# num_2, _, _ = plt.hist(df_2['Partition_ID'],bins=np.arange(1,num_cols_2+1,1))\n",
    "num_2, _, _ = plt.hist(df_2['Partition_ID'],bins=33)\n",
    "print(num_2)"
   ]
  },
  {
   "cell_type": "code",
   "execution_count": 8,
   "metadata": {},
   "outputs": [
    {
     "data": {
      "text/plain": [
       "array([  4.,   4.,   5.,   6.,   6.,   7.,   8.,   8.,   9.,  11.,  12.,\n",
       "        13.,  14.,  15.,  22.,  30.,  33.,  34.,  35.,  35.,  47., 382.,\n",
       "       511.])"
      ]
     },
     "execution_count": 8,
     "metadata": {},
     "output_type": "execute_result"
    }
   ],
   "source": [
    "np.sort(num_1)"
   ]
  },
  {
   "cell_type": "code",
   "execution_count": 31,
   "metadata": {},
   "outputs": [
    {
     "data": {
      "text/plain": [
       "33"
      ]
     },
     "execution_count": 31,
     "metadata": {},
     "output_type": "execute_result"
    }
   ],
   "source": [
    "len(num_2)"
   ]
  },
  {
   "cell_type": "code",
   "execution_count": 9,
   "metadata": {},
   "outputs": [
    {
     "data": {
      "text/plain": [
       "array([  4.,   4.,   5.,   6.,   6.,   7.,   8.,   8.,   9.,  11.,  11.,\n",
       "        11.,  12.,  12.,  12.,  12.,  12.,  13.,  14.,  15.,  15.,  16.,\n",
       "        16.,  22.,  30.,  33.,  34., 127., 127., 128., 170., 170., 171.])"
      ]
     },
     "execution_count": 9,
     "metadata": {},
     "output_type": "execute_result"
    }
   ],
   "source": [
    "np.sort(num_2)"
   ]
  },
  {
   "cell_type": "code",
   "execution_count": 10,
   "metadata": {},
   "outputs": [
    {
     "data": {
      "text/plain": [
       "array([26, 12, 32,  3, 19, 31, 11, 13, 22, 29, 17, 15, 30, 28, 18, 16, 10,\n",
       "       20, 14,  6,  4,  7,  5,  8, 21, 27,  9, 24, 23, 25,  1,  0,  2],\n",
       "      dtype=int64)"
      ]
     },
     "execution_count": 10,
     "metadata": {},
     "output_type": "execute_result"
    }
   ],
   "source": [
    "np.argsort(num_2)"
   ]
  },
  {
   "cell_type": "code",
   "execution_count": 11,
   "metadata": {},
   "outputs": [
    {
     "data": {
      "text/plain": [
       "(1, 2, 3, 24, 26)"
      ]
     },
     "execution_count": 11,
     "metadata": {},
     "output_type": "execute_result"
    }
   ],
   "source": [
    "1,2,3,24,26"
   ]
  },
  {
   "cell_type": "code",
   "execution_count": 12,
   "metadata": {},
   "outputs": [
    {
     "name": "stdout",
     "output_type": "stream",
     "text": [
      "13.0\n",
      "12.0\n"
     ]
    }
   ],
   "source": [
    "print(np.median(num_1))\n",
    "print(np.median(num_2))"
   ]
  },
  {
   "cell_type": "markdown",
   "metadata": {},
   "source": [
    "Design a mechahism to find collaborators to be excluded permanently"
   ]
  },
  {
   "cell_type": "code",
   "execution_count": 13,
   "metadata": {},
   "outputs": [],
   "source": [
    "def find_exclusion(num, threshold=10):\n",
    "    small_cols = np.argwhere(num<=threshold)\n",
    "    exclusion = []\n",
    "    for i in small_cols:\n",
    "        exclusion.append('col_'+str(i[-1]))\n",
    "        # print('col_'+str(i[-1]))\n",
    "    return exclusion"
   ]
  },
  {
   "cell_type": "code",
   "execution_count": 14,
   "metadata": {},
   "outputs": [
    {
     "name": "stdout",
     "output_type": "stream",
     "text": [
      "['col_1', 'col_7', 'col_8', 'col_9', 'col_13', 'col_16', 'col_18', 'col_21', 'col_22']\n",
      "['col_3', 'col_11', 'col_12', 'col_13', 'col_19', 'col_22', 'col_26', 'col_31', 'col_32']\n"
     ]
    }
   ],
   "source": [
    "excl_1 = find_exclusion(num_1, 10)\n",
    "excl_2 = find_exclusion(num_2, 10)\n",
    "print(excl_1)\n",
    "print(excl_2)"
   ]
  },
  {
   "cell_type": "code",
   "execution_count": 15,
   "metadata": {},
   "outputs": [
    {
     "name": "stdout",
     "output_type": "stream",
     "text": [
      "[18  8 22  1 13 21  9  7 16 11  6 14 10  2  4 15 19  5 12 20  3 17  0]\n",
      "[26 12 32  3 19 31 11 13 22 29 17 15 30 28 18 16 10 20 14  6  4  7  5  8\n",
      " 21 27  9 24 23 25  1  0  2]\n"
     ]
    }
   ],
   "source": [
    "print(np.argsort(num_1))\n",
    "print(np.argsort(num_2))"
   ]
  },
  {
   "cell_type": "code",
   "execution_count": 16,
   "metadata": {},
   "outputs": [],
   "source": [
    "def remove_col(all_cols, exclusion_list):\n",
    "    for col in exclusion_list:\n",
    "        all_cols.remove(col)"
   ]
  },
  {
   "cell_type": "code",
   "execution_count": 17,
   "metadata": {},
   "outputs": [],
   "source": [
    "# remove_col(all_cols_1, excl_1)\n",
    "# remove_col(all_cols_2, excl_2)\n",
    "# print(all_cols_1)\n",
    "# print(all_cols_2)"
   ]
  },
  {
   "cell_type": "markdown",
   "metadata": {},
   "source": [
    "Find collaborators to be preserved"
   ]
  },
  {
   "cell_type": "code",
   "execution_count": 18,
   "metadata": {},
   "outputs": [],
   "source": [
    "def find_preserved(num, threshold=10):\n",
    "    big_cols = np.argwhere(num>=threshold)\n",
    "    preserved_col_id = []\n",
    "    for i in big_cols:\n",
    "        preserved_col_id.append(int(i[-1]))\n",
    "        # print('col_'+str(i[-1]))\n",
    "    return preserved_col_id"
   ]
  },
  {
   "cell_type": "code",
   "execution_count": 19,
   "metadata": {},
   "outputs": [
    {
     "name": "stdout",
     "output_type": "stream",
     "text": [
      "[0, 2, 3, 4, 5, 6, 10, 11, 12, 14, 15, 17, 19, 20]\n",
      "[0, 1, 2, 4, 5, 6, 7, 8, 9, 10, 14, 15, 16, 17, 18, 20, 21, 23, 24, 25, 27, 28, 29, 30]\n"
     ]
    }
   ],
   "source": [
    "preservation_1 = find_preserved(num_1, 10)\n",
    "preservation_2 = find_preserved(num_2, 10)\n",
    "print(preservation_1)\n",
    "print(preservation_2)"
   ]
  },
  {
   "cell_type": "code",
   "execution_count": 20,
   "metadata": {},
   "outputs": [
    {
     "data": {
      "text/plain": [
       "24"
      ]
     },
     "execution_count": 20,
     "metadata": {},
     "output_type": "execute_result"
    }
   ],
   "source": [
    "len(preservation_2)"
   ]
  },
  {
   "cell_type": "code",
   "execution_count": 21,
   "metadata": {},
   "outputs": [
    {
     "name": "stdout",
     "output_type": "stream",
     "text": [
      "['col_0', 'col_2', 'col_3', 'col_4', 'col_5', 'col_6', 'col_10', 'col_11', 'col_12', 'col_14', 'col_15', 'col_17', 'col_19', 'col_20']\n",
      "['col_0', 'col_1', 'col_2', 'col_4', 'col_5', 'col_6', 'col_7', 'col_8', 'col_9', 'col_10', 'col_14', 'col_15', 'col_16', 'col_17', 'col_18', 'col_20', 'col_21', 'col_23', 'col_24', 'col_25', 'col_27', 'col_28', 'col_29', 'col_30']\n"
     ]
    }
   ],
   "source": [
    "preserved_col_1 = [all_cols_1[i] for i in preservation_1]\n",
    "preserved_col_2 = [all_cols_2[i] for i in preservation_2]\n",
    "print(preserved_col_1)\n",
    "print(preserved_col_2)"
   ]
  },
  {
   "cell_type": "markdown",
   "metadata": {},
   "source": [
    "Use the number of training sample as the basis of probability to be selected, then pick a subset of collaborators from the preserved ones randomly"
   ]
  },
  {
   "cell_type": "code",
   "execution_count": 22,
   "metadata": {},
   "outputs": [
    {
     "name": "stdout",
     "output_type": "stream",
     "text": [
      "[0.4279732  0.01256281 0.03936348 0.01842546 0.02847571 0.01005025\n",
      " 0.01172529 0.00921273 0.02931323 0.01088777 0.02512563 0.319933\n",
      " 0.02763819 0.02931323]\n",
      "[0.14237856 0.14237856 0.14321608 0.01256281 0.01340034 0.01256281\n",
      " 0.01340034 0.01842546 0.02847571 0.01005025 0.01172529 0.00921273\n",
      " 0.01005025 0.00921273 0.01005025 0.01088777 0.02512563 0.10636516\n",
      " 0.10636516 0.10720268 0.02763819 0.01005025 0.00921273 0.01005025]\n"
     ]
    }
   ],
   "source": [
    "prob_of_select_1 = np.array([num_1[i] for i in preservation_1])\n",
    "prob_of_select_1 = prob_of_select_1/prob_of_select_1.sum()\n",
    "print(prob_of_select_1)\n",
    "prob_of_select_2 = np.array([num_2[i] for i in preservation_2])\n",
    "prob_of_select_2 = prob_of_select_2/prob_of_select_2.sum()\n",
    "print(prob_of_select_2)"
   ]
  },
  {
   "cell_type": "code",
   "execution_count": 32,
   "metadata": {},
   "outputs": [
    {
     "data": {
      "text/plain": [
       "24"
      ]
     },
     "execution_count": 32,
     "metadata": {},
     "output_type": "execute_result"
    }
   ],
   "source": [
    "len(prob_of_select_2)"
   ]
  },
  {
   "cell_type": "code",
   "execution_count": 24,
   "metadata": {},
   "outputs": [
    {
     "name": "stdout",
     "output_type": "stream",
     "text": [
      "[17  0  3  2 19 12  5 10  4  6]\n",
      "[ 7  1 23 16  0 25 24  2  6 20]\n"
     ]
    }
   ],
   "source": [
    "rng = np.random.default_rng(66)\n",
    "num_final_pick = 10\n",
    "randmoly_picked_1 = rng.choice(preservation_1, num_final_pick, replace=False, p=prob_of_select_1)\n",
    "randmoly_picked_2 = rng.choice(preservation_2, num_final_pick, replace=False, p=prob_of_select_2)\n",
    "print(randmoly_picked_1)\n",
    "print(randmoly_picked_2)"
   ]
  },
  {
   "cell_type": "markdown",
   "metadata": {},
   "source": [
    "Manually created a partition csv file by keep the entries of these collaborators: 18,  1,  4, 20, 13,  5,  6, 11, 12, 16, the other entries are deleted, which results to about 1/3 data reduction "
   ]
  },
  {
   "cell_type": "code",
   "execution_count": 25,
   "metadata": {},
   "outputs": [
    {
     "name": "stdout",
     "output_type": "stream",
     "text": [
      "382.0\n",
      "511.0\n",
      "47.0\n",
      "15.0\n",
      "33.0\n",
      "35.0\n",
      "34.0\n",
      "14.0\n",
      "22.0\n",
      "12.0\n"
     ]
    }
   ],
   "source": [
    "for i in randmoly_picked_1:\n",
    "    print(num_1[i])"
   ]
  },
  {
   "cell_type": "code",
   "execution_count": 26,
   "metadata": {},
   "outputs": [
    {
     "name": "stdout",
     "output_type": "stream",
     "text": [
      "[19 17  4  3 12]\n"
     ]
    }
   ],
   "source": [
    "randmoly_picked_5 = rng.choice(preservation_1, 5, replace=False, p=prob_of_select_1)\n",
    "print(randmoly_picked_5)"
   ]
  },
  {
   "cell_type": "code",
   "execution_count": 27,
   "metadata": {},
   "outputs": [
    {
     "name": "stdout",
     "output_type": "stream",
     "text": [
      "33.0\n",
      "382.0\n",
      "22.0\n",
      "47.0\n",
      "35.0\n"
     ]
    }
   ],
   "source": [
    "for i in randmoly_picked_5:\n",
    "    print(num_1[i])"
   ]
  },
  {
   "cell_type": "code",
   "execution_count": 33,
   "metadata": {},
   "outputs": [],
   "source": [
    "# # preservation_2.remove(0)\n",
    "# print(preservation_2)"
   ]
  },
  {
   "cell_type": "code",
   "execution_count": 34,
   "metadata": {},
   "outputs": [],
   "source": [
    "# prob_2 = prob_of_select_2.tolist()\n",
    "# prob_2.remove(prob_2[0])\n",
    "# print(prob_2, len(prob_2))"
   ]
  },
  {
   "cell_type": "code",
   "execution_count": 35,
   "metadata": {},
   "outputs": [
    {
     "name": "stdout",
     "output_type": "stream",
     "text": [
      "[26  9  2  1 30]\n",
      "128.0\n",
      "22.0\n",
      "170.0\n",
      "170.0\n",
      "11.0\n"
     ]
    }
   ],
   "source": [
    "randmoly_picked_5 = rng.choice(preservation_2, 5, replace=False, p=prob_of_select_2)\n",
    "print(randmoly_picked_5+1)\n",
    "for i in randmoly_picked_5:\n",
    "    print(num_2[i])"
   ]
  },
  {
   "cell_type": "markdown",
   "metadata": {},
   "source": [
    "Manually created a partition csv file by keep the entries of these collaborators: 25, 3, 24, 10, 26, the other entries are deleted, which results to about 587/1251 data "
   ]
  }
 ],
 "metadata": {
  "interpreter": {
   "hash": "4c617514c637f36eae6867161a16dfe7fd4807d23dccc3aa5d3139c0a2bfe5bc"
  },
  "kernelspec": {
   "display_name": "Python 3.9.7 ('cpfl')",
   "language": "python",
   "name": "python3"
  },
  "language_info": {
   "codemirror_mode": {
    "name": "ipython",
    "version": 3
   },
   "file_extension": ".py",
   "mimetype": "text/x-python",
   "name": "python",
   "nbconvert_exporter": "python",
   "pygments_lexer": "ipython3",
   "version": "3.9.7"
  },
  "orig_nbformat": 4
 },
 "nbformat": 4,
 "nbformat_minor": 2
}
